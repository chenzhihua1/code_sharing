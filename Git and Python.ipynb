{
 "cells": [
  {
   "cell_type": "markdown",
   "id": "1c2ea317",
   "metadata": {},
   "source": [
    "# 代码提交"
   ]
  },
  {
   "cell_type": "code",
   "execution_count": null,
   "id": "f3b32fd8",
   "metadata": {},
   "outputs": [],
   "source": [
    "import os\n",
    "path = r\"代码路径\"\n",
    "os.chdir(path)\n",
    "!git add .\n",
    "!git status"
   ]
  },
  {
   "cell_type": "code",
   "execution_count": null,
   "id": "10faf59b",
   "metadata": {},
   "outputs": [],
   "source": [
    "!git commit -m \"注释\"\n",
    "!git push"
   ]
  },
  {
   "cell_type": "code",
   "execution_count": null,
   "id": "c54fa05a",
   "metadata": {},
   "outputs": [],
   "source": []
  },
  {
   "cell_type": "markdown",
   "id": "8379c7bd",
   "metadata": {},
   "source": [
    "# 重置（慎用）"
   ]
  },
  {
   "cell_type": "code",
   "execution_count": null,
   "id": "59cabfbb",
   "metadata": {},
   "outputs": [],
   "source": [
    "!git fetch --all && git reset --hard origin/master"
   ]
  }
 ],
 "metadata": {
  "kernelspec": {
   "display_name": "Python 3 (ipykernel)",
   "language": "python",
   "name": "python3"
  },
  "language_info": {
   "codemirror_mode": {
    "name": "ipython",
    "version": 3
   },
   "file_extension": ".py",
   "mimetype": "text/x-python",
   "name": "python",
   "nbconvert_exporter": "python",
   "pygments_lexer": "ipython3",
   "version": "3.9.12"
  }
 },
 "nbformat": 4,
 "nbformat_minor": 5
}
